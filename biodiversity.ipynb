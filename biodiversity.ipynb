{
 "cells": [
  {
   "cell_type": "markdown",
   "metadata": {},
   "source": [
    "# Portfolio Project on Biodiversity\n",
    "\n",
    "The goal of this project is to explore biodiversity data about different species found in a few of the national parks in the USA, some species of which are endangered. \n",
    "\n",
    "\n",
    "### Project Goals\n",
    "With the help of the data, we want to explore the biodiversity within some of the national parks and some of the species' conservation status:\n",
    "- What percentage of species are not threatened vs threatened/recovering?\n",
    "- Which category of organisms is the most under threat/concern?\n",
    "- Have these species been spotted at any of the national parks within the last 7 days?\n",
    "- Determine whether threatened/recovering species overall have been spotted at the national parks in the last 7 days.\n",
    "\n",
    "\n",
    "### Data\n",
    "\n",
    "The data is given by codecademy.com - it is mostly fictional, but inspired by real life.\n",
    "\n",
    "The 'observations' file holds recorded sightings of different species at several national parks for the past 7 days.\n",
    "The 'species_info' file contains data about different species and their conservation statuses.\n",
    "\n",
    "\n",
    "### Analysis\n",
    "\n",
    "Some of the key metrics that will be calculated include: \n",
    "\n",
    "- distributions\n",
    "- counts\n",
    "- relationship between species\n",
    "- conservation status of species\n",
    "- observations of species in parks. "
   ]
  },
  {
   "cell_type": "markdown",
   "metadata": {},
   "source": [
    "### Explore Data:"
   ]
  },
  {
   "cell_type": "code",
   "execution_count": 15,
   "metadata": {},
   "outputs": [],
   "source": [
    "# Import libraries\n",
    "import pandas as pd\n",
    "import numpy as np\n",
    "import matplotlib.pyplot as plt\n",
    "import seaborn as sns\n",
    "\n",
    "# Load data\n",
    "observations = pd.read_csv('observations.csv')\n",
    "species_info = pd.read_csv('species_info.csv')"
   ]
  },
  {
   "cell_type": "code",
   "execution_count": 99,
   "metadata": {},
   "outputs": [
    {
     "name": "stdout",
     "output_type": "stream",
     "text": [
      "            scientific_name                            park_name  observations\n",
      "0        Vicia benghalensis  Great Smoky Mountains National Park            68\n",
      "1            Neovison vison  Great Smoky Mountains National Park            77\n",
      "2         Prunus subcordata               Yosemite National Park           138\n",
      "3      Abutilon theophrasti                  Bryce National Park            84\n",
      "4  Githopsis specularioides  Great Smoky Mountains National Park            85\n",
      "\n",
      "observations shape: (23281, 3)\n",
      "\n",
      "{observations.info()}\n"
     ]
    },
    {
     "data": {
      "text/html": [
       "<div>\n",
       "<style scoped>\n",
       "    .dataframe tbody tr th:only-of-type {\n",
       "        vertical-align: middle;\n",
       "    }\n",
       "\n",
       "    .dataframe tbody tr th {\n",
       "        vertical-align: top;\n",
       "    }\n",
       "\n",
       "    .dataframe thead th {\n",
       "        text-align: right;\n",
       "    }\n",
       "</style>\n",
       "<table border=\"1\" class=\"dataframe\">\n",
       "  <thead>\n",
       "    <tr style=\"text-align: right;\">\n",
       "      <th></th>\n",
       "      <th>scientific_name</th>\n",
       "      <th>park_name</th>\n",
       "      <th>observations</th>\n",
       "    </tr>\n",
       "  </thead>\n",
       "  <tbody>\n",
       "    <tr>\n",
       "      <th>count</th>\n",
       "      <td>23281</td>\n",
       "      <td>23281</td>\n",
       "      <td>23281.000000</td>\n",
       "    </tr>\n",
       "    <tr>\n",
       "      <th>unique</th>\n",
       "      <td>5541</td>\n",
       "      <td>4</td>\n",
       "      <td>NaN</td>\n",
       "    </tr>\n",
       "    <tr>\n",
       "      <th>top</th>\n",
       "      <td>Castor canadensis</td>\n",
       "      <td>Bryce National Park</td>\n",
       "      <td>NaN</td>\n",
       "    </tr>\n",
       "    <tr>\n",
       "      <th>freq</th>\n",
       "      <td>12</td>\n",
       "      <td>5823</td>\n",
       "      <td>NaN</td>\n",
       "    </tr>\n",
       "    <tr>\n",
       "      <th>mean</th>\n",
       "      <td>NaN</td>\n",
       "      <td>NaN</td>\n",
       "      <td>142.280357</td>\n",
       "    </tr>\n",
       "    <tr>\n",
       "      <th>std</th>\n",
       "      <td>NaN</td>\n",
       "      <td>NaN</td>\n",
       "      <td>69.885439</td>\n",
       "    </tr>\n",
       "    <tr>\n",
       "      <th>min</th>\n",
       "      <td>NaN</td>\n",
       "      <td>NaN</td>\n",
       "      <td>9.000000</td>\n",
       "    </tr>\n",
       "    <tr>\n",
       "      <th>25%</th>\n",
       "      <td>NaN</td>\n",
       "      <td>NaN</td>\n",
       "      <td>86.000000</td>\n",
       "    </tr>\n",
       "    <tr>\n",
       "      <th>50%</th>\n",
       "      <td>NaN</td>\n",
       "      <td>NaN</td>\n",
       "      <td>124.000000</td>\n",
       "    </tr>\n",
       "    <tr>\n",
       "      <th>75%</th>\n",
       "      <td>NaN</td>\n",
       "      <td>NaN</td>\n",
       "      <td>195.000000</td>\n",
       "    </tr>\n",
       "    <tr>\n",
       "      <th>max</th>\n",
       "      <td>NaN</td>\n",
       "      <td>NaN</td>\n",
       "      <td>321.000000</td>\n",
       "    </tr>\n",
       "  </tbody>\n",
       "</table>\n",
       "</div>"
      ],
      "text/plain": [
       "          scientific_name            park_name  observations\n",
       "count               23281                23281  23281.000000\n",
       "unique               5541                    4           NaN\n",
       "top     Castor canadensis  Bryce National Park           NaN\n",
       "freq                   12                 5823           NaN\n",
       "mean                  NaN                  NaN    142.280357\n",
       "std                   NaN                  NaN     69.885439\n",
       "min                   NaN                  NaN      9.000000\n",
       "25%                   NaN                  NaN     86.000000\n",
       "50%                   NaN                  NaN    124.000000\n",
       "75%                   NaN                  NaN    195.000000\n",
       "max                   NaN                  NaN    321.000000"
      ]
     },
     "execution_count": 99,
     "metadata": {},
     "output_type": "execute_result"
    }
   ],
   "source": [
    "# Get a feel for the data: observations DF\n",
    "print(observations.head())\n",
    "print(f\"\\nobservations shape: {observations.shape}\")\n",
    "print('\\n{observations.info()}')\n",
    "observations.describe(include='all')"
   ]
  },
  {
   "cell_type": "code",
   "execution_count": 98,
   "metadata": {},
   "outputs": [
    {
     "name": "stdout",
     "output_type": "stream",
     "text": [
      "  category                scientific_name  \\\n",
      "0   Mammal  Clethrionomys gapperi gapperi   \n",
      "1   Mammal                      Bos bison   \n",
      "2   Mammal                     Bos taurus   \n",
      "3   Mammal                     Ovis aries   \n",
      "4   Mammal                 Cervus elaphus   \n",
      "\n",
      "                                        common_names conservation_status  \n",
      "0                           Gapper's Red-Backed Vole      Not Threatened  \n",
      "1                              American Bison, Bison      Not Threatened  \n",
      "2  Aurochs, Aurochs, Domestic Cattle (Feral), Dom...      Not Threatened  \n",
      "3  Domestic Sheep, Mouflon, Red Sheep, Sheep (Feral)      Not Threatened  \n",
      "4                                      Wapiti Or Elk      Not Threatened  \n",
      "\n",
      "species shape: (5824, 4)\n",
      "\n",
      "{species_info.info()}\n"
     ]
    },
    {
     "data": {
      "text/html": [
       "<div>\n",
       "<style scoped>\n",
       "    .dataframe tbody tr th:only-of-type {\n",
       "        vertical-align: middle;\n",
       "    }\n",
       "\n",
       "    .dataframe tbody tr th {\n",
       "        vertical-align: top;\n",
       "    }\n",
       "\n",
       "    .dataframe thead th {\n",
       "        text-align: right;\n",
       "    }\n",
       "</style>\n",
       "<table border=\"1\" class=\"dataframe\">\n",
       "  <thead>\n",
       "    <tr style=\"text-align: right;\">\n",
       "      <th></th>\n",
       "      <th>category</th>\n",
       "      <th>scientific_name</th>\n",
       "      <th>common_names</th>\n",
       "      <th>conservation_status</th>\n",
       "    </tr>\n",
       "  </thead>\n",
       "  <tbody>\n",
       "    <tr>\n",
       "      <th>count</th>\n",
       "      <td>5824</td>\n",
       "      <td>5824</td>\n",
       "      <td>5824</td>\n",
       "      <td>5824</td>\n",
       "    </tr>\n",
       "    <tr>\n",
       "      <th>unique</th>\n",
       "      <td>7</td>\n",
       "      <td>5541</td>\n",
       "      <td>5504</td>\n",
       "      <td>5</td>\n",
       "    </tr>\n",
       "    <tr>\n",
       "      <th>top</th>\n",
       "      <td>Vascular Plant</td>\n",
       "      <td>Castor canadensis</td>\n",
       "      <td>Brachythecium Moss</td>\n",
       "      <td>Not Threatened</td>\n",
       "    </tr>\n",
       "    <tr>\n",
       "      <th>freq</th>\n",
       "      <td>4470</td>\n",
       "      <td>3</td>\n",
       "      <td>7</td>\n",
       "      <td>5633</td>\n",
       "    </tr>\n",
       "  </tbody>\n",
       "</table>\n",
       "</div>"
      ],
      "text/plain": [
       "              category    scientific_name        common_names  \\\n",
       "count             5824               5824                5824   \n",
       "unique               7               5541                5504   \n",
       "top     Vascular Plant  Castor canadensis  Brachythecium Moss   \n",
       "freq              4470                  3                   7   \n",
       "\n",
       "       conservation_status  \n",
       "count                 5824  \n",
       "unique                   5  \n",
       "top         Not Threatened  \n",
       "freq                  5633  "
      ]
     },
     "execution_count": 98,
     "metadata": {},
     "output_type": "execute_result"
    }
   ],
   "source": [
    "# Get a feel for the data: species_info DF\n",
    "print(species_info.head())\n",
    "print(f\"\\nspecies shape: {species_info.shape}\")\n",
    "print('\\n{species_info.info()}')\n",
    "species_info.describe(include='all')"
   ]
  },
  {
   "cell_type": "markdown",
   "metadata": {},
   "source": [
    "For the observations file, it does not appear that we are missing any data, there are no null values. All columns have 23296 rows.\n",
    "\n",
    "For the species_info file, all columns have 5824 rows, but the conservation_status column only has 191 non-null values. This is to be expected, as not all animals are endangered. This is structually missing data."
   ]
  },
  {
   "cell_type": "code",
   "execution_count": 39,
   "metadata": {},
   "outputs": [
    {
     "name": "stdout",
     "output_type": "stream",
     "text": [
      "observation duplicates:\n",
      "False    23281\n",
      "dtype: int64\n",
      "\n",
      "species_info duplicates:\n",
      "False    5824\n",
      "dtype: int64\n"
     ]
    }
   ],
   "source": [
    "# Check for any duplicate rows\n",
    "dup_o = observations.duplicated()\n",
    "print('observation duplicates:')\n",
    "print(dup_o.value_counts())\n",
    "\n",
    "dup_si = species_info.duplicated()\n",
    "print('\\nspecies_info duplicates:')\n",
    "print(dup_si.value_counts())\n"
   ]
  },
  {
   "cell_type": "markdown",
   "metadata": {},
   "source": [
    "Looks like the observations DF has 15 duplicates, while the species_info DF has none."
   ]
  },
  {
   "cell_type": "code",
   "execution_count": 28,
   "metadata": {},
   "outputs": [
    {
     "name": "stdout",
     "output_type": "stream",
     "text": [
      "False    23281\n",
      "dtype: int64\n"
     ]
    }
   ],
   "source": [
    "# Remove duplicates in obervations DF\n",
    "observations = observations.drop_duplicates()\n",
    "\n",
    "# Check the duplicates are removed\n",
    "dup_o2 = observations.duplicated()\n",
    "print(dup_o2.value_counts())"
   ]
  },
  {
   "cell_type": "code",
   "execution_count": 29,
   "metadata": {},
   "outputs": [
    {
     "data": {
      "text/plain": [
       "array(['Great Smoky Mountains National Park', 'Yosemite National Park',\n",
       "       'Bryce National Park', 'Yellowstone National Park'], dtype=object)"
      ]
     },
     "execution_count": 29,
     "metadata": {},
     "output_type": "execute_result"
    }
   ],
   "source": [
    "# Finding unique parks in observations DF\n",
    "observations['park_name'].unique()"
   ]
  },
  {
   "cell_type": "code",
   "execution_count": 37,
   "metadata": {},
   "outputs": [
    {
     "data": {
      "text/plain": [
       "array(['Mammal', 'Bird', 'Reptile', 'Amphibian', 'Fish', 'Vascular Plant',\n",
       "       'Nonvascular Plant'], dtype=object)"
      ]
     },
     "execution_count": 37,
     "metadata": {},
     "output_type": "execute_result"
    }
   ],
   "source": [
    "# Finding unique species categories in species_info DF\n",
    "species_info['category'].unique()"
   ]
  },
  {
   "cell_type": "code",
   "execution_count": 38,
   "metadata": {},
   "outputs": [
    {
     "data": {
      "text/plain": [
       "array([nan, 'Species of Concern', 'Endangered', 'Threatened',\n",
       "       'In Recovery'], dtype=object)"
      ]
     },
     "execution_count": 38,
     "metadata": {},
     "output_type": "execute_result"
    }
   ],
   "source": [
    "# Finding unique species categories & conservation status in species_info DF\n",
    "species_info['conservation_status'].unique()"
   ]
  },
  {
   "cell_type": "code",
   "execution_count": 51,
   "metadata": {},
   "outputs": [
    {
     "data": {
      "text/plain": [
       "Not Threatened        5633\n",
       "Species of Concern     161\n",
       "Endangered              16\n",
       "Threatened              10\n",
       "In Recovery              4\n",
       "Name: conservation_status, dtype: int64"
      ]
     },
     "execution_count": 51,
     "metadata": {},
     "output_type": "execute_result"
    }
   ],
   "source": [
    "# Clean data in species_info by replacing all NaN with 'Not Threatened'\n",
    "species_info.fillna('Not Threatened', inplace=True)\n",
    "species_info['conservation_status'].value_counts()"
   ]
  },
  {
   "cell_type": "markdown",
   "metadata": {},
   "source": [
    "### Analysis:"
   ]
  },
  {
   "cell_type": "code",
   "execution_count": 71,
   "metadata": {},
   "outputs": [
    {
     "data": {
      "text/plain": [
       "Not Threatened        96.720467\n",
       "Species of Concern     2.764423\n",
       "Endangered             0.274725\n",
       "Threatened             0.171703\n",
       "In Recovery            0.068681\n",
       "Name: conservation_status, dtype: float64"
      ]
     },
     "execution_count": 71,
     "metadata": {},
     "output_type": "execute_result"
    }
   ],
   "source": [
    "# Find Percentage of each group under conservation_status\n",
    "species_info['conservation_status'].value_counts(normalize=True)*100"
   ]
  },
  {
   "cell_type": "markdown",
   "metadata": {},
   "source": [
    "The vast majority of the data contains non-threatened animals/plants at 96.7%"
   ]
  },
  {
   "cell_type": "code",
   "execution_count": 157,
   "metadata": {},
   "outputs": [
    {
     "data": {
      "image/png": "[encoded data removed]",
      "text/plain": [
       "<Figure size 432x288 with 1 Axes>"
      ]
     },
     "metadata": {
      "needs_background": "light"
     },
     "output_type": "display_data"
    },
    {
     "data": {
      "text/plain": [
       "<Figure size 432x288 with 0 Axes>"
      ]
     },
     "metadata": {},
     "output_type": "display_data"
    }
   ],
   "source": [
    "# Create DF with only species that are threatened / in recovery\n",
    "endang_info = species_info[species_info.conservation_status != \"Not Threatened\"]\n",
    "\n",
    "plt.figure()\n",
    "ax = sns.countplot(x='conservation_status', data=endang_info)\n",
    "ax.set_xticklabels(ax.get_xticklabels(),rotation=90)\n",
    "plt.title('Species that are Threatened / In Recovery', fontsize=14, y=1.05)\n",
    "plt.xlabel('Conservation Status')\n",
    "plt.savefig('species_threat_recov.png')\n",
    "plt.show()\n",
    "plt.clf()"
   ]
  },
  {
   "cell_type": "code",
   "execution_count": 104,
   "metadata": {},
   "outputs": [
    {
     "data": {
      "text/html": [
       "<div>\n",
       "<style scoped>\n",
       "    .dataframe tbody tr th:only-of-type {\n",
       "        vertical-align: middle;\n",
       "    }\n",
       "\n",
       "    .dataframe tbody tr th {\n",
       "        vertical-align: top;\n",
       "    }\n",
       "\n",
       "    .dataframe thead th {\n",
       "        text-align: right;\n",
       "    }\n",
       "</style>\n",
       "<table border=\"1\" class=\"dataframe\">\n",
       "  <thead>\n",
       "    <tr style=\"text-align: right;\">\n",
       "      <th>category</th>\n",
       "      <th>Amphibian</th>\n",
       "      <th>Bird</th>\n",
       "      <th>Fish</th>\n",
       "      <th>Mammal</th>\n",
       "      <th>Nonvascular Plant</th>\n",
       "      <th>Reptile</th>\n",
       "      <th>Vascular Plant</th>\n",
       "    </tr>\n",
       "    <tr>\n",
       "      <th>conservation_status</th>\n",
       "      <th></th>\n",
       "      <th></th>\n",
       "      <th></th>\n",
       "      <th></th>\n",
       "      <th></th>\n",
       "      <th></th>\n",
       "      <th></th>\n",
       "    </tr>\n",
       "  </thead>\n",
       "  <tbody>\n",
       "    <tr>\n",
       "      <th>Endangered</th>\n",
       "      <td>1.0</td>\n",
       "      <td>4.0</td>\n",
       "      <td>3.0</td>\n",
       "      <td>7.0</td>\n",
       "      <td>NaN</td>\n",
       "      <td>NaN</td>\n",
       "      <td>1.0</td>\n",
       "    </tr>\n",
       "    <tr>\n",
       "      <th>In Recovery</th>\n",
       "      <td>NaN</td>\n",
       "      <td>3.0</td>\n",
       "      <td>NaN</td>\n",
       "      <td>1.0</td>\n",
       "      <td>NaN</td>\n",
       "      <td>NaN</td>\n",
       "      <td>NaN</td>\n",
       "    </tr>\n",
       "    <tr>\n",
       "      <th>Species of Concern</th>\n",
       "      <td>4.0</td>\n",
       "      <td>72.0</td>\n",
       "      <td>4.0</td>\n",
       "      <td>28.0</td>\n",
       "      <td>5.0</td>\n",
       "      <td>5.0</td>\n",
       "      <td>43.0</td>\n",
       "    </tr>\n",
       "    <tr>\n",
       "      <th>Threatened</th>\n",
       "      <td>2.0</td>\n",
       "      <td>NaN</td>\n",
       "      <td>4.0</td>\n",
       "      <td>2.0</td>\n",
       "      <td>NaN</td>\n",
       "      <td>NaN</td>\n",
       "      <td>2.0</td>\n",
       "    </tr>\n",
       "  </tbody>\n",
       "</table>\n",
       "</div>"
      ],
      "text/plain": [
       "category             Amphibian  Bird  Fish  Mammal  Nonvascular Plant  \\\n",
       "conservation_status                                                     \n",
       "Endangered                 1.0   4.0   3.0     7.0                NaN   \n",
       "In Recovery                NaN   3.0   NaN     1.0                NaN   \n",
       "Species of Concern         4.0  72.0   4.0    28.0                5.0   \n",
       "Threatened                 2.0   NaN   4.0     2.0                NaN   \n",
       "\n",
       "category             Reptile  Vascular Plant  \n",
       "conservation_status                           \n",
       "Endangered               NaN             1.0  \n",
       "In Recovery              NaN             NaN  \n",
       "Species of Concern       5.0            43.0  \n",
       "Threatened               NaN             2.0  "
      ]
     },
     "execution_count": 104,
     "metadata": {},
     "output_type": "execute_result"
    }
   ],
   "source": [
    "endang_info_summary = endang_info.groupby(['conservation_status', 'category'])['scientific_name'].count().unstack()\n",
    "endang_info_summary"
   ]
  },
  {
   "cell_type": "code",
   "execution_count": 158,
   "metadata": {},
   "outputs": [
    {
     "data": {
      "text/plain": [
       "<Figure size 432x288 with 0 Axes>"
      ]
     },
     "metadata": {},
     "output_type": "display_data"
    },
    {
     "data": {
      "image/png": "[encoded data removed]",
      "text/plain": [
       "<Figure size 576x432 with 1 Axes>"
      ]
     },
     "metadata": {
      "needs_background": "light"
     },
     "output_type": "display_data"
    },
    {
     "data": {
      "text/plain": [
       "<Figure size 432x288 with 0 Axes>"
      ]
     },
     "metadata": {},
     "output_type": "display_data"
    }
   ],
   "source": [
    "plt.figure()\n",
    "ax = endang_info_summary.plot(kind = 'bar', figsize=(8,6), stacked=True)\n",
    "plt.title('Conservation Status by Species', fontsize=14, y=1.05)\n",
    "ax.set_xlabel(\"Conservation Status\")\n",
    "ax.set_ylabel(\"Number of Species\")\n",
    "plt.legend(title='Category')\n",
    "plt.savefig('conservation_by_species.png')\n",
    "plt.show()\n",
    "plt.clf()"
   ]
  },
  {
   "cell_type": "markdown",
   "metadata": {},
   "source": [
    "Here we see the details of what categories make up each of the threatened conservation statuses.\n",
    "Birds make up the largest part of the Species of Concern status."
   ]
  },
  {
   "cell_type": "markdown",
   "metadata": {},
   "source": [
    "Let's look deeper at the birds that are Species of Concern, and see if any of these birds have been spotted at one of the National Parks in our data."
   ]
  },
  {
   "cell_type": "code",
   "execution_count": 114,
   "metadata": {},
   "outputs": [],
   "source": [
    "birds_concern = species_info[(species_info.conservation_status == \"Species of Concern\") \n",
    "                             & (species_info.category == 'Bird')]"
   ]
  },
  {
   "cell_type": "code",
   "execution_count": 115,
   "metadata": {},
   "outputs": [
    {
     "data": {
      "text/html": [
       "<div>\n",
       "<style scoped>\n",
       "    .dataframe tbody tr th:only-of-type {\n",
       "        vertical-align: middle;\n",
       "    }\n",
       "\n",
       "    .dataframe tbody tr th {\n",
       "        vertical-align: top;\n",
       "    }\n",
       "\n",
       "    .dataframe thead th {\n",
       "        text-align: right;\n",
       "    }\n",
       "</style>\n",
       "<table border=\"1\" class=\"dataframe\">\n",
       "  <thead>\n",
       "    <tr style=\"text-align: right;\">\n",
       "      <th></th>\n",
       "      <th>category</th>\n",
       "      <th>scientific_name</th>\n",
       "      <th>common_names</th>\n",
       "      <th>conservation_status</th>\n",
       "    </tr>\n",
       "  </thead>\n",
       "  <tbody>\n",
       "    <tr>\n",
       "      <th>91</th>\n",
       "      <td>Bird</td>\n",
       "      <td>Accipiter cooperii</td>\n",
       "      <td>Cooper's Hawk</td>\n",
       "      <td>Species of Concern</td>\n",
       "    </tr>\n",
       "    <tr>\n",
       "      <th>93</th>\n",
       "      <td>Bird</td>\n",
       "      <td>Accipiter striatus</td>\n",
       "      <td>Sharp-Shinned Hawk</td>\n",
       "      <td>Species of Concern</td>\n",
       "    </tr>\n",
       "    <tr>\n",
       "      <th>94</th>\n",
       "      <td>Bird</td>\n",
       "      <td>Aquila chrysaetos</td>\n",
       "      <td>Golden Eagle</td>\n",
       "      <td>Species of Concern</td>\n",
       "    </tr>\n",
       "    <tr>\n",
       "      <th>96</th>\n",
       "      <td>Bird</td>\n",
       "      <td>Buteo lineatus</td>\n",
       "      <td>Red-Shouldered Hawk</td>\n",
       "      <td>Species of Concern</td>\n",
       "    </tr>\n",
       "    <tr>\n",
       "      <th>98</th>\n",
       "      <td>Bird</td>\n",
       "      <td>Circus cyaneus</td>\n",
       "      <td>Northern Harrier</td>\n",
       "      <td>Species of Concern</td>\n",
       "    </tr>\n",
       "    <tr>\n",
       "      <th>...</th>\n",
       "      <td>...</td>\n",
       "      <td>...</td>\n",
       "      <td>...</td>\n",
       "      <td>...</td>\n",
       "    </tr>\n",
       "    <tr>\n",
       "      <th>4504</th>\n",
       "      <td>Bird</td>\n",
       "      <td>Elanus leucurus</td>\n",
       "      <td>White-Tailed Kite</td>\n",
       "      <td>Species of Concern</td>\n",
       "    </tr>\n",
       "    <tr>\n",
       "      <th>4507</th>\n",
       "      <td>Bird</td>\n",
       "      <td>Cypseloides niger</td>\n",
       "      <td>Black Swift</td>\n",
       "      <td>Species of Concern</td>\n",
       "    </tr>\n",
       "    <tr>\n",
       "      <th>4528</th>\n",
       "      <td>Bird</td>\n",
       "      <td>Pica nuttalli</td>\n",
       "      <td>Yellow-Billed Magpie</td>\n",
       "      <td>Species of Concern</td>\n",
       "    </tr>\n",
       "    <tr>\n",
       "      <th>4560</th>\n",
       "      <td>Bird</td>\n",
       "      <td>Pyrocephalus rubinus</td>\n",
       "      <td>Vermilion Flycatcher</td>\n",
       "      <td>Species of Concern</td>\n",
       "    </tr>\n",
       "    <tr>\n",
       "      <th>4564</th>\n",
       "      <td>Bird</td>\n",
       "      <td>Nycticorax nycticorax</td>\n",
       "      <td>Black-Crowned Night Heron</td>\n",
       "      <td>Species of Concern</td>\n",
       "    </tr>\n",
       "  </tbody>\n",
       "</table>\n",
       "<p>72 rows × 4 columns</p>\n",
       "</div>"
      ],
      "text/plain": [
       "     category        scientific_name               common_names  \\\n",
       "91       Bird     Accipiter cooperii              Cooper's Hawk   \n",
       "93       Bird     Accipiter striatus         Sharp-Shinned Hawk   \n",
       "94       Bird      Aquila chrysaetos               Golden Eagle   \n",
       "96       Bird         Buteo lineatus        Red-Shouldered Hawk   \n",
       "98       Bird         Circus cyaneus           Northern Harrier   \n",
       "...       ...                    ...                        ...   \n",
       "4504     Bird        Elanus leucurus          White-Tailed Kite   \n",
       "4507     Bird      Cypseloides niger                Black Swift   \n",
       "4528     Bird          Pica nuttalli       Yellow-Billed Magpie   \n",
       "4560     Bird   Pyrocephalus rubinus       Vermilion Flycatcher   \n",
       "4564     Bird  Nycticorax nycticorax  Black-Crowned Night Heron   \n",
       "\n",
       "     conservation_status  \n",
       "91    Species of Concern  \n",
       "93    Species of Concern  \n",
       "94    Species of Concern  \n",
       "96    Species of Concern  \n",
       "98    Species of Concern  \n",
       "...                  ...  \n",
       "4504  Species of Concern  \n",
       "4507  Species of Concern  \n",
       "4528  Species of Concern  \n",
       "4560  Species of Concern  \n",
       "4564  Species of Concern  \n",
       "\n",
       "[72 rows x 4 columns]"
      ]
     },
     "execution_count": 115,
     "metadata": {},
     "output_type": "execute_result"
    }
   ],
   "source": [
    "birds_concern"
   ]
  },
  {
   "cell_type": "code",
   "execution_count": 117,
   "metadata": {},
   "outputs": [
    {
     "data": {
      "text/html": [
       "<div>\n",
       "<style scoped>\n",
       "    .dataframe tbody tr th:only-of-type {\n",
       "        vertical-align: middle;\n",
       "    }\n",
       "\n",
       "    .dataframe tbody tr th {\n",
       "        vertical-align: top;\n",
       "    }\n",
       "\n",
       "    .dataframe thead th {\n",
       "        text-align: right;\n",
       "    }\n",
       "</style>\n",
       "<table border=\"1\" class=\"dataframe\">\n",
       "  <thead>\n",
       "    <tr style=\"text-align: right;\">\n",
       "      <th></th>\n",
       "      <th>category</th>\n",
       "      <th>scientific_name</th>\n",
       "      <th>common_names</th>\n",
       "      <th>conservation_status</th>\n",
       "      <th>park_name</th>\n",
       "      <th>observations</th>\n",
       "    </tr>\n",
       "  </thead>\n",
       "  <tbody>\n",
       "    <tr>\n",
       "      <th>0</th>\n",
       "      <td>Bird</td>\n",
       "      <td>Accipiter cooperii</td>\n",
       "      <td>Cooper's Hawk</td>\n",
       "      <td>Species of Concern</td>\n",
       "      <td>Bryce National Park</td>\n",
       "      <td>95</td>\n",
       "    </tr>\n",
       "    <tr>\n",
       "      <th>1</th>\n",
       "      <td>Bird</td>\n",
       "      <td>Accipiter cooperii</td>\n",
       "      <td>Cooper's Hawk</td>\n",
       "      <td>Species of Concern</td>\n",
       "      <td>Yosemite National Park</td>\n",
       "      <td>138</td>\n",
       "    </tr>\n",
       "    <tr>\n",
       "      <th>2</th>\n",
       "      <td>Bird</td>\n",
       "      <td>Accipiter cooperii</td>\n",
       "      <td>Cooper's Hawk</td>\n",
       "      <td>Species of Concern</td>\n",
       "      <td>Yellowstone National Park</td>\n",
       "      <td>245</td>\n",
       "    </tr>\n",
       "    <tr>\n",
       "      <th>3</th>\n",
       "      <td>Bird</td>\n",
       "      <td>Accipiter cooperii</td>\n",
       "      <td>Cooper's Hawk</td>\n",
       "      <td>Species of Concern</td>\n",
       "      <td>Great Smoky Mountains National Park</td>\n",
       "      <td>65</td>\n",
       "    </tr>\n",
       "    <tr>\n",
       "      <th>4</th>\n",
       "      <td>Bird</td>\n",
       "      <td>Accipiter striatus</td>\n",
       "      <td>Sharp-Shinned Hawk</td>\n",
       "      <td>Species of Concern</td>\n",
       "      <td>Yosemite National Park</td>\n",
       "      <td>115</td>\n",
       "    </tr>\n",
       "    <tr>\n",
       "      <th>...</th>\n",
       "      <td>...</td>\n",
       "      <td>...</td>\n",
       "      <td>...</td>\n",
       "      <td>...</td>\n",
       "      <td>...</td>\n",
       "      <td>...</td>\n",
       "    </tr>\n",
       "    <tr>\n",
       "      <th>315</th>\n",
       "      <td>Bird</td>\n",
       "      <td>Nycticorax nycticorax</td>\n",
       "      <td>Black-Crowned Night Heron</td>\n",
       "      <td>Species of Concern</td>\n",
       "      <td>Yosemite National Park</td>\n",
       "      <td>125</td>\n",
       "    </tr>\n",
       "    <tr>\n",
       "      <th>316</th>\n",
       "      <td>Bird</td>\n",
       "      <td>Nycticorax nycticorax</td>\n",
       "      <td>Black-Crowned Night Heron</td>\n",
       "      <td>Species of Concern</td>\n",
       "      <td>Yellowstone National Park</td>\n",
       "      <td>233</td>\n",
       "    </tr>\n",
       "    <tr>\n",
       "      <th>317</th>\n",
       "      <td>Bird</td>\n",
       "      <td>Nycticorax nycticorax</td>\n",
       "      <td>Black-Crowned Night Heron</td>\n",
       "      <td>Species of Concern</td>\n",
       "      <td>Great Smoky Mountains National Park</td>\n",
       "      <td>65</td>\n",
       "    </tr>\n",
       "    <tr>\n",
       "      <th>318</th>\n",
       "      <td>Bird</td>\n",
       "      <td>Nycticorax nycticorax</td>\n",
       "      <td>Black-Crowned Night Heron</td>\n",
       "      <td>Species of Concern</td>\n",
       "      <td>Yellowstone National Park</td>\n",
       "      <td>206</td>\n",
       "    </tr>\n",
       "    <tr>\n",
       "      <th>319</th>\n",
       "      <td>Bird</td>\n",
       "      <td>Nycticorax nycticorax</td>\n",
       "      <td>Black-Crowned Night Heron</td>\n",
       "      <td>Species of Concern</td>\n",
       "      <td>Yosemite National Park</td>\n",
       "      <td>144</td>\n",
       "    </tr>\n",
       "  </tbody>\n",
       "</table>\n",
       "<p>320 rows × 6 columns</p>\n",
       "</div>"
      ],
      "text/plain": [
       "    category        scientific_name               common_names  \\\n",
       "0       Bird     Accipiter cooperii              Cooper's Hawk   \n",
       "1       Bird     Accipiter cooperii              Cooper's Hawk   \n",
       "2       Bird     Accipiter cooperii              Cooper's Hawk   \n",
       "3       Bird     Accipiter cooperii              Cooper's Hawk   \n",
       "4       Bird     Accipiter striatus         Sharp-Shinned Hawk   \n",
       "..       ...                    ...                        ...   \n",
       "315     Bird  Nycticorax nycticorax  Black-Crowned Night Heron   \n",
       "316     Bird  Nycticorax nycticorax  Black-Crowned Night Heron   \n",
       "317     Bird  Nycticorax nycticorax  Black-Crowned Night Heron   \n",
       "318     Bird  Nycticorax nycticorax  Black-Crowned Night Heron   \n",
       "319     Bird  Nycticorax nycticorax  Black-Crowned Night Heron   \n",
       "\n",
       "    conservation_status                            park_name  observations  \n",
       "0    Species of Concern                  Bryce National Park            95  \n",
       "1    Species of Concern               Yosemite National Park           138  \n",
       "2    Species of Concern            Yellowstone National Park           245  \n",
       "3    Species of Concern  Great Smoky Mountains National Park            65  \n",
       "4    Species of Concern               Yosemite National Park           115  \n",
       "..                  ...                                  ...           ...  \n",
       "315  Species of Concern               Yosemite National Park           125  \n",
       "316  Species of Concern            Yellowstone National Park           233  \n",
       "317  Species of Concern  Great Smoky Mountains National Park            65  \n",
       "318  Species of Concern            Yellowstone National Park           206  \n",
       "319  Species of Concern               Yosemite National Park           144  \n",
       "\n",
       "[320 rows x 6 columns]"
      ]
     },
     "execution_count": 117,
     "metadata": {},
     "output_type": "execute_result"
    }
   ],
   "source": [
    "# Left merge the DataFrame containing birds that are a Species of Concern with the observations DataFrame\n",
    "birds_concern_obs = pd.merge(birds_concern, observations, how='left')\n",
    "\n",
    "birds_concern_obs"
   ]
  },
  {
   "cell_type": "code",
   "execution_count": 159,
   "metadata": {},
   "outputs": [
    {
     "data": {
      "image/png": "[encoded data removed]",
      "text/plain": [
       "<Figure size 432x288 with 1 Axes>"
      ]
     },
     "metadata": {
      "needs_background": "light"
     },
     "output_type": "display_data"
    },
    {
     "data": {
      "text/plain": [
       "<Figure size 432x288 with 0 Axes>"
      ]
     },
     "metadata": {},
     "output_type": "display_data"
    }
   ],
   "source": [
    "parks_order=['Bryce National Park','Yellowstone National Park','Great Smoky Mountains National Park','Yosemite National Park']\n",
    "\n",
    "plt.figure()\n",
    "ax = sns.barplot(x='observations', y='park_name', data=birds_concern_obs, order=parks_order)\n",
    "plt.title('Observations of Species of Birds of Concern', fontsize = 14, y=1.05)\n",
    "plt.ylabel('Park Name')\n",
    "plt.xlabel('Observations')\n",
    "plt.savefig('observations_birds_concern.png')\n",
    "plt.show()\n",
    "plt.clf()"
   ]
  },
  {
   "cell_type": "markdown",
   "metadata": {},
   "source": [
    "We can see that Yellowstone National Park has had more sightings of the species of birds that have a conservation status of Concern."
   ]
  },
  {
   "cell_type": "markdown",
   "metadata": {},
   "source": [
    "Next we look at the oberservations in the national parks of threatened/recovering species."
   ]
  },
  {
   "cell_type": "code",
   "execution_count": 129,
   "metadata": {},
   "outputs": [
    {
     "name": "stdout",
     "output_type": "stream",
     "text": [
      "  category scientific_name common_names conservation_status  \\\n",
      "0   Mammal   Canis latrans       Coyote  Species of Concern   \n",
      "1   Mammal   Canis latrans       Coyote  Species of Concern   \n",
      "2   Mammal   Canis latrans       Coyote  Species of Concern   \n",
      "3   Mammal   Canis latrans       Coyote  Species of Concern   \n",
      "4   Mammal     Canis lupus    Gray Wolf          Endangered   \n",
      "\n",
      "                             park_name  observations  \n",
      "0                  Bryce National Park            85  \n",
      "1            Yellowstone National Park           206  \n",
      "2  Great Smoky Mountains National Park            68  \n",
      "3               Yosemite National Park            99  \n",
      "4               Yosemite National Park            35  \n"
     ]
    }
   ],
   "source": [
    "# Left merge of the endang_info DataFrame with the observations DataFrame\n",
    "endang_obs = pd.merge(endang_info, observations, how='left')\n",
    "\n",
    "print(endang_obs.head())"
   ]
  },
  {
   "cell_type": "code",
   "execution_count": 160,
   "metadata": {},
   "outputs": [
    {
     "data": {
      "image/png": "[encoded data removed]",
      "text/plain": [
       "<Figure size 576x432 with 1 Axes>"
      ]
     },
     "metadata": {
      "needs_background": "light"
     },
     "output_type": "display_data"
    },
    {
     "data": {
      "text/plain": [
       "<Figure size 432x288 with 0 Axes>"
      ]
     },
     "metadata": {},
     "output_type": "display_data"
    }
   ],
   "source": [
    "plt.figure(figsize=(8,6))\n",
    "ax = sns.barplot(x='conservation_status', y='observations', hue='park_name', data=endang_obs, ci=None)\n",
    "plt.title('Observations of Threatened/Recovering Species per Park', fontsize=14, y=1.05)\n",
    "plt.legend(title='Park Name')\n",
    "plt.ylabel('Observations')\n",
    "plt.xlabel('Conservation Status')\n",
    "plt.savefig('threat_per_park.png')\n",
    "plt.show()\n",
    "plt.clf()"
   ]
  },
  {
   "cell_type": "markdown",
   "metadata": {},
   "source": [
    "It is good to see that threatened/recovering species have been spotted at the national parks in the past 7 days, with most of the observations in Yellowstone National Park."
   ]
  },
  {
   "cell_type": "markdown",
   "metadata": {},
   "source": [
    "### Conclusions"
   ]
  },
  {
   "cell_type": "markdown",
   "metadata": {},
   "source": [
    "Using the data, we were able to answer our initial questions:\n",
    "\n",
    "- What percentage of species are not threatened vs threatened/recovering?\n",
    "    96.7% of the organisms were not threatened, and 3.3% are threatened or recovering.\n",
    "    \n",
    "    \n",
    "- Which category of organisms is the most under threat/concern?\n",
    "    Birds.\n",
    "    \n",
    "    \n",
    "- Have these species been spotted at any of the national parks within the last 7 days?\n",
    "    Yes, with the most sightings at Yellowstone National Park.\n",
    "    \n",
    "    \n",
    "- Determine whether threatened/recovering species overall have been spotted at the national parks in the last 7 days?\n",
    "    Yes, with most sightings at Yellowstone, followed by Yosemite National Park."
   ]
  }
 ],
 "metadata": {
  "kernelspec": {
   "display_name": "Python 3 (ipykernel)",
   "language": "python",
   "name": "python3"
  },
  "language_info": {
   "codemirror_mode": {
    "name": "ipython",
    "version": 3
   },
   "file_extension": ".py",
   "mimetype": "text/x-python",
   "name": "python",
   "nbconvert_exporter": "python",
   "pygments_lexer": "ipython3",
   "version": "3.9.12"
  }
 },
 "nbformat": 4,
 "nbformat_minor": 4
}
